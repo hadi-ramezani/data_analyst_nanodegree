{
 "cells": [
  {
   "cell_type": "markdown",
   "metadata": {},
   "source": [
    "# Analysis of Titanic Data"
   ]
  },
  {
   "cell_type": "markdown",
   "metadata": {
    "collapsed": true
   },
   "source": [
    "# Question\n",
    "Which one of the main factors provided in the data set (age, gender, class, size of family) made passengers likely to survive?"
   ]
  },
  {
   "cell_type": "code",
   "execution_count": 112,
   "metadata": {
    "collapsed": false
   },
   "outputs": [
    {
     "name": "stdout",
     "output_type": "stream",
     "text": [
      "Populating the interactive namespace from numpy and matplotlib\n"
     ]
    }
   ],
   "source": [
    "# Import the necessary libraries\n",
    "import numpy as np\n",
    "import pandas as pd\n",
    "import matplotlib\n",
    "import matplotlib.pyplot as plt\n",
    "matplotlib.style.use('ggplot')\n",
    "%pylab inline"
   ]
  },
  {
   "cell_type": "code",
   "execution_count": 113,
   "metadata": {
    "collapsed": true
   },
   "outputs": [],
   "source": [
    "def calculate_rate(df, column):\n",
    "    rate = df[column].value_counts()/len(df)*100\n",
    "    return rate\n",
    "\n",
    "# Define some functions to plot data\n",
    "def plot_bar_multi(data, ax, title, xlabel, ylabel, y_low, y_high):\n",
    "    \"\"\"Plots a bar chart in a multipanel figure\"\"\"\n",
    "    data.plot(ax = ax, kind = 'bar', title = title, rot = 0)\n",
    "    ax.set_xlabel(xlabel, fontsize=12)\n",
    "    ax.set_ylabel(xlabel, fontsize=12)\n",
    "    ax.set_ylim(y_low, y_high)\n",
    "\n",
    "def plot_bar_single(data, title, xlabel, ylabel):\n",
    "    \"\"\"Plots a single bar chart\"\"\"\n",
    "    data.plot(kind = 'bar', title = title, rot = 0)\n",
    "    plt.xlabel(xlabel, fontsize=12)\n",
    "    plt.ylabel(ylabel, fontsize=12)\n",
    "    plt.show()\n",
    "    \n",
    "def plot_hist(hist_data, ax, title, xlabel, ylabel):\n",
    "    \"\"\"Plots histtogram data in a multipanel figure\"\"\"\n",
    "    hist_data.plot(kind = 'bar', rot = 0)\n",
    "    ax.set_title(title)\n",
    "    ax.set_xlabel(xlabel, fontsize=12)\n",
    "    ax.set_ylabel(ylabel, fontsize=12)  \n"
   ]
  },
  {
   "cell_type": "markdown",
   "metadata": {},
   "source": [
    "#Data Wrangling:\n"
   ]
  },
  {
   "cell_type": "markdown",
   "metadata": {},
   "source": [
    "We begin answering the question by reading the data, looking at the data, and obtaining some basic information. "
   ]
  },
  {
   "cell_type": "code",
   "execution_count": 114,
   "metadata": {
    "collapsed": false,
    "scrolled": true
   },
   "outputs": [
    {
     "data": {
      "text/html": [
       "<div>\n",
       "<table border=\"1\" class=\"dataframe\">\n",
       "  <thead>\n",
       "    <tr style=\"text-align: right;\">\n",
       "      <th></th>\n",
       "      <th>PassengerId</th>\n",
       "      <th>Survived</th>\n",
       "      <th>Pclass</th>\n",
       "      <th>Name</th>\n",
       "      <th>Sex</th>\n",
       "      <th>Age</th>\n",
       "      <th>SibSp</th>\n",
       "      <th>Parch</th>\n",
       "      <th>Ticket</th>\n",
       "      <th>Fare</th>\n",
       "      <th>Cabin</th>\n",
       "      <th>Embarked</th>\n",
       "    </tr>\n",
       "  </thead>\n",
       "  <tbody>\n",
       "    <tr>\n",
       "      <th>0</th>\n",
       "      <td>1</td>\n",
       "      <td>0</td>\n",
       "      <td>3</td>\n",
       "      <td>Braund, Mr. Owen Harris</td>\n",
       "      <td>male</td>\n",
       "      <td>22</td>\n",
       "      <td>1</td>\n",
       "      <td>0</td>\n",
       "      <td>A/5 21171</td>\n",
       "      <td>7.2500</td>\n",
       "      <td>NaN</td>\n",
       "      <td>S</td>\n",
       "    </tr>\n",
       "    <tr>\n",
       "      <th>1</th>\n",
       "      <td>2</td>\n",
       "      <td>1</td>\n",
       "      <td>1</td>\n",
       "      <td>Cumings, Mrs. John Bradley (Florence Briggs Th...</td>\n",
       "      <td>female</td>\n",
       "      <td>38</td>\n",
       "      <td>1</td>\n",
       "      <td>0</td>\n",
       "      <td>PC 17599</td>\n",
       "      <td>71.2833</td>\n",
       "      <td>C85</td>\n",
       "      <td>C</td>\n",
       "    </tr>\n",
       "    <tr>\n",
       "      <th>2</th>\n",
       "      <td>3</td>\n",
       "      <td>1</td>\n",
       "      <td>3</td>\n",
       "      <td>Heikkinen, Miss. Laina</td>\n",
       "      <td>female</td>\n",
       "      <td>26</td>\n",
       "      <td>0</td>\n",
       "      <td>0</td>\n",
       "      <td>STON/O2. 3101282</td>\n",
       "      <td>7.9250</td>\n",
       "      <td>NaN</td>\n",
       "      <td>S</td>\n",
       "    </tr>\n",
       "    <tr>\n",
       "      <th>3</th>\n",
       "      <td>4</td>\n",
       "      <td>1</td>\n",
       "      <td>1</td>\n",
       "      <td>Futrelle, Mrs. Jacques Heath (Lily May Peel)</td>\n",
       "      <td>female</td>\n",
       "      <td>35</td>\n",
       "      <td>1</td>\n",
       "      <td>0</td>\n",
       "      <td>113803</td>\n",
       "      <td>53.1000</td>\n",
       "      <td>C123</td>\n",
       "      <td>S</td>\n",
       "    </tr>\n",
       "    <tr>\n",
       "      <th>4</th>\n",
       "      <td>5</td>\n",
       "      <td>0</td>\n",
       "      <td>3</td>\n",
       "      <td>Allen, Mr. William Henry</td>\n",
       "      <td>male</td>\n",
       "      <td>35</td>\n",
       "      <td>0</td>\n",
       "      <td>0</td>\n",
       "      <td>373450</td>\n",
       "      <td>8.0500</td>\n",
       "      <td>NaN</td>\n",
       "      <td>S</td>\n",
       "    </tr>\n",
       "  </tbody>\n",
       "</table>\n",
       "</div>"
      ],
      "text/plain": [
       "   PassengerId  Survived  Pclass  \\\n",
       "0            1         0       3   \n",
       "1            2         1       1   \n",
       "2            3         1       3   \n",
       "3            4         1       1   \n",
       "4            5         0       3   \n",
       "\n",
       "                                                Name     Sex  Age  SibSp  \\\n",
       "0                            Braund, Mr. Owen Harris    male   22      1   \n",
       "1  Cumings, Mrs. John Bradley (Florence Briggs Th...  female   38      1   \n",
       "2                             Heikkinen, Miss. Laina  female   26      0   \n",
       "3       Futrelle, Mrs. Jacques Heath (Lily May Peel)  female   35      1   \n",
       "4                           Allen, Mr. William Henry    male   35      0   \n",
       "\n",
       "   Parch            Ticket     Fare Cabin Embarked  \n",
       "0      0         A/5 21171   7.2500   NaN        S  \n",
       "1      0          PC 17599  71.2833   C85        C  \n",
       "2      0  STON/O2. 3101282   7.9250   NaN        S  \n",
       "3      0            113803  53.1000  C123        S  \n",
       "4      0            373450   8.0500   NaN        S  "
      ]
     },
     "execution_count": 114,
     "metadata": {},
     "output_type": "execute_result"
    }
   ],
   "source": [
    "# Read the data and output the head\n",
    "titanic_data = pd.read_csv('titanic_data.csv')\n",
    "titanic_data.head()"
   ]
  },
  {
   "cell_type": "code",
   "execution_count": 115,
   "metadata": {
    "collapsed": false
   },
   "outputs": [
    {
     "name": "stdout",
     "output_type": "stream",
     "text": [
      "<class 'pandas.core.frame.DataFrame'>\n",
      "Int64Index: 891 entries, 0 to 890\n",
      "Data columns (total 12 columns):\n",
      "PassengerId    891 non-null int64\n",
      "Survived       891 non-null int64\n",
      "Pclass         891 non-null int64\n",
      "Name           891 non-null object\n",
      "Sex            891 non-null object\n",
      "Age            714 non-null float64\n",
      "SibSp          891 non-null int64\n",
      "Parch          891 non-null int64\n",
      "Ticket         891 non-null object\n",
      "Fare           891 non-null float64\n",
      "Cabin          204 non-null object\n",
      "Embarked       889 non-null object\n",
      "dtypes: float64(2), int64(5), object(5)\n",
      "memory usage: 90.5+ KB\n",
      "None\n",
      "       PassengerId    Survived      Pclass         Age       SibSp  \\\n",
      "count   891.000000  891.000000  891.000000  714.000000  891.000000   \n",
      "mean    446.000000    0.383838    2.308642   29.699118    0.523008   \n",
      "std     257.353842    0.486592    0.836071   14.526497    1.102743   \n",
      "min       1.000000    0.000000    1.000000    0.420000    0.000000   \n",
      "25%     223.500000    0.000000    2.000000   20.125000    0.000000   \n",
      "50%     446.000000    0.000000    3.000000   28.000000    0.000000   \n",
      "75%     668.500000    1.000000    3.000000   38.000000    1.000000   \n",
      "max     891.000000    1.000000    3.000000   80.000000    8.000000   \n",
      "\n",
      "            Parch        Fare  \n",
      "count  891.000000  891.000000  \n",
      "mean     0.381594   32.204208  \n",
      "std      0.806057   49.693429  \n",
      "min      0.000000    0.000000  \n",
      "25%      0.000000    7.910400  \n",
      "50%      0.000000   14.454200  \n",
      "75%      0.000000   31.000000  \n",
      "max      6.000000  512.329200  \n",
      "0 passenger ids duplicated\n"
     ]
    }
   ],
   "source": [
    "# Get some basic information\n",
    "print titanic_data.info()\n",
    "print titanic_data.describe()\n",
    "# Print the number of duplicated passenger ids\n",
    "num_duplicate_ids = len(titanic_data['PassengerId']) - len(titanic_data['PassengerId'].unique())\n",
    "print str(num_duplicate_ids) + ' passenger ids duplicated'"
   ]
  },
  {
   "cell_type": "markdown",
   "metadata": {},
   "source": [
    "It seems there are some missing values in \"Age\" column and there are many missing values in \"Cabin\" column.\n",
    "I'm not sure how \"Cabin\" information can be helpful but I think we need to fill-in the missing \"Age\" values"
   ]
  },
  {
   "cell_type": "markdown",
   "metadata": {},
   "source": [
    "# Fill-in the missing \"Age\" values"
   ]
  },
  {
   "cell_type": "markdown",
   "metadata": {},
   "source": [
    "I think an accurate way to fill-in the missing values in the age column would be using the corresponding mean values of\n",
    "ages for the class and gender of that passenger"
   ]
  },
  {
   "cell_type": "code",
   "execution_count": 116,
   "metadata": {
    "collapsed": false
   },
   "outputs": [
    {
     "name": "stdout",
     "output_type": "stream",
     "text": [
      "Sex     Pclass\n",
      "female  1         34.611765\n",
      "        2         28.722973\n",
      "        3         21.750000\n",
      "male    1         41.281386\n",
      "        2         30.740707\n",
      "        3         26.507589\n",
      "Name: Age, dtype: float64\n"
     ]
    }
   ],
   "source": [
    "# add a new column to assign the missing ages\n",
    "titanic_data['filled_age'] = titanic_data['Age']\n",
    "# Find the average age for each class and gender\n",
    "avg_age_by_class = titanic_data.groupby([titanic_data['Sex'], titanic_data['Pclass']]).mean()['Age']\n",
    "print avg_age_by_class"
   ]
  },
  {
   "cell_type": "code",
   "execution_count": 117,
   "metadata": {
    "collapsed": false
   },
   "outputs": [
    {
     "name": "stdout",
     "output_type": "stream",
     "text": [
      "     PassengerId  filled_age\n",
      "886          887       27.00\n",
      "887          888       19.00\n",
      "888          889       21.75\n",
      "889          890       26.00\n",
      "890          891       32.00\n",
      "0\n"
     ]
    }
   ],
   "source": [
    "# Find the gender and class of each passenger and replace the missing age\n",
    "# by the average of that class and gender (not sure how we could do this using vertorized operations)\n",
    "for i in range(len(titanic_data)):\n",
    "    gender = titanic_data['Sex'].iloc[i]\n",
    "    pclass = titanic_data['Pclass'].iloc[i]\n",
    "    if not pd.notnull(titanic_data['filled_age'].iloc[i]):\n",
    "        titanic_data['filled_age'].iloc[i] = avg_age_by_class.loc[gender,pclass]\n",
    "# Print the tail to see if the age of PassengerId=889 was replaced by correct value and if there is any NaN values left\n",
    "print titanic_data[['PassengerId','filled_age']].tail()\n",
    "print len(titanic_data[titanic_data['filled_age'].isnull()])\n"
   ]
  },
  {
   "cell_type": "markdown",
   "metadata": {},
   "source": [
    "Everything looks good"
   ]
  },
  {
   "cell_type": "markdown",
   "metadata": {},
   "source": [
    "# Data Exploration"
   ]
  },
  {
   "cell_type": "markdown",
   "metadata": {},
   "source": [
    "Plot the data in a multipanel figure to get some initial information. In my opinion, it makes more sense to plot the percentages rather than frequency when possible"
   ]
  },
  {
   "cell_type": "code",
   "execution_count": 118,
   "metadata": {
    "collapsed": false
   },
   "outputs": [
    {
     "data": {
      "image/png": "[encoded data removed]",
      "text/plain": [
       "<matplotlib.figure.Figure at 0x7f673c32dcd0>"
      ]
     },
     "metadata": {},
     "output_type": "display_data"
    }
   ],
   "source": [
    "   \n",
    "fig1, ((ax1, ax2, ax3), (ax4, ax5, ax6), (ax7, ax8, ax9)) = plt.subplots(3, 3)\n",
    "plt.gcf().set_size_inches(12, 9)\n",
    "y_low = 0\n",
    "y_high = 75\n",
    "\n",
    "# To adjust the distance subplots\n",
    "fig1.subplots_adjust(wspace = 0.5, hspace = 0.5)\n",
    "\n",
    "# Plot survival rates\n",
    "survival_rate = calculate_rate(titanic_data, 'Survived')\n",
    "plot_bar_multi(survival_rate, ax1, 'Survival rate', '0 = dead, 1 = survided',\n",
    "          '%', y_low, y_high)\n",
    "\n",
    "# Plot Pclass rates\n",
    "pclass_rate = calculate_rate(titanic_data, 'Pclass')\n",
    "plot_bar_multi(pclass_rate, ax2, 'Passenger class rate', '1 = 1st, 2 = 2nd, 3 = 3rd',\n",
    "         '%', y_low, y_high)\n",
    "\n",
    "# Plot gender rates\n",
    "gender_rate = calculate_rate(titanic_data, 'Sex')\n",
    "plot_bar_multi(gender_rate, ax3, 'Gender rate', 'Gender',\n",
    "         '%', y_low, y_high)\n",
    "\n",
    "# Plot siblings/spouses rates\n",
    "sibsp_rate = calculate_rate(titanic_data, 'SibSp')\n",
    "plot_bar_multi(sibsp_rate, ax4, 'Siblings/spouses rate', '# of siblings/spouses',\n",
    "         '%', y_low, y_high)\n",
    "\n",
    "# Plot parent/children rates\n",
    "parch_rate = calculate_rate(titanic_data, 'Parch') \n",
    "plot_bar_multi(parch_rate, ax5, 'Parent/children rate', '# of parent/children',\n",
    "         '%', y_low, y_high)\n",
    "\n",
    "# Plot Embarkation port rates\n",
    "embarked_rate = calculate_rate(titanic_data, 'Embarked')\n",
    "plot_bar_multi(embarked_rate, ax6, 'Embarkation port', 'C = Cherbourg; Q = Queenstown;\\n'\n",
    "                'S = Southampton', '%', y_low, y_high)\n",
    "\n",
    "# Plot age histogram\n",
    "age_hist =  titanic_data['Age'].hist(ax = ax7)\n",
    "plot_hist(age_hist, ax7, 'Age histogram', 'Age', 'counts')\n",
    "\n",
    "# Plot fare histogram\n",
    "fare_hist =  titanic_data['Fare'].hist(ax = ax8, bins=20)\n",
    "plot_hist(fare_hist, ax8, 'Fare histogram', 'Fare rate', 'counts')\n",
    "\n",
    "# Remove the subplot that wasn't used\n",
    "fig1.delaxes(ax9)\n",
    "\n",
    "# Show the figure\n",
    "plt.show()\n"
   ]
  },
  {
   "cell_type": "markdown",
   "metadata": {},
   "source": [
    "It appears \n",
    "1) more than 60% of pepople couldn't survive. \n",
    "2) number of passengers in class 3 dominates\n",
    "3) There were more male than female on board\n",
    "4) The peak of age was around 20-30 years old"
   ]
  },
  {
   "cell_type": "markdown",
   "metadata": {},
   "source": [
    "Find what percentages of passengers in each class survived"
   ]
  },
  {
   "cell_type": "code",
   "execution_count": 119,
   "metadata": {
    "collapsed": false
   },
   "outputs": [
    {
     "data": {
      "image/png": "[encoded data removed]",
      "text/plain": [
       "<matplotlib.figure.Figure at 0x7f673be69ed0>"
      ]
     },
     "metadata": {},
     "output_type": "display_data"
    }
   ],
   "source": [
    "class_survival = pd.crosstab(titanic_data['Pclass'], titanic_data['Survived'])\n",
    "# Compute the percentage\n",
    "class_survival_prc = class_survival.div(class_survival.sum(axis = 1)/100, axis = 0)\n",
    "# Change the column name to be less confusing\n",
    "class_survival_prc.columns = ['died', 'survived']\n",
    "# Plot the data\n",
    "plot_bar_single(class_survival_prc, 'Survival by class',\n",
    "                'Pclass', '%')"
   ]
  },
  {
   "cell_type": "markdown",
   "metadata": {},
   "source": [
    "It seems the survival rate was higher in class 1 passengers in contrast to class 2 and 3 "
   ]
  },
  {
   "cell_type": "markdown",
   "metadata": {},
   "source": [
    "Find out what percentages of each gender survived"
   ]
  },
  {
   "cell_type": "code",
   "execution_count": 120,
   "metadata": {
    "collapsed": false
   },
   "outputs": [
    {
     "name": "stdout",
     "output_type": "stream",
     "text": [
      "Survived    0    1\n",
      "Sex               \n",
      "female     81  233\n",
      "male      468  109\n",
      "                0           1\n",
      "count    2.000000    2.000000\n",
      "mean   274.500000  171.000000\n",
      "std    273.650324   87.681241\n",
      "min     81.000000  109.000000\n",
      "25%    177.750000  140.000000\n",
      "50%    274.500000  171.000000\n",
      "75%    371.250000  202.000000\n",
      "max    468.000000  233.000000\n"
     ]
    },
    {
     "data": {
      "image/png": "[encoded data removed]",
      "text/plain": [
       "<matplotlib.figure.Figure at 0x7f673aa93990>"
      ]
     },
     "metadata": {},
     "output_type": "display_data"
    }
   ],
   "source": [
    "gender_survival = pd.crosstab(titanic_data['Sex'], titanic_data['Survived'])\n",
    "print gender_survival\n",
    "print gender_survival.describe()\n",
    "# Compute the percentage\n",
    "gender_survival_prc = gender_survival.div(gender_survival.sum(axis = 1)/100, axis = 0)\n",
    "# Change the column name so that the plot will be less confusing\n",
    "gender_survival_prc.columns = ['died', 'survived']\n",
    "# Plot the data\n",
    "plot_bar_single(gender_survival_prc, 'Survival by class',\n",
    "                'Sex', '%')"
   ]
  },
  {
   "cell_type": "markdown",
   "metadata": {},
   "source": [
    "Apparently the survival rate was much higher in females than males. Let's see if the higher survival rate of females is related to passenger's class or this is true for all passenger classes\n"
   ]
  },
  {
   "cell_type": "code",
   "execution_count": 121,
   "metadata": {
    "collapsed": false
   },
   "outputs": [
    {
     "name": "stdout",
     "output_type": "stream",
     "text": [
      "56.4814814815 % male   passengers in class 1\n",
      "43.5185185185 % female passengers in class 1\n",
      "58.6956521739 % male   passengers in class 2\n",
      "41.3043478261 % female passengers in class 2\n",
      "70.6720977597 % male   passengers in class 3\n",
      "29.3279022403 % female passengers in class 3\n"
     ]
    },
    {
     "data": {
      "image/png": "[encoded data removed]",
      "text/plain": [
       "<matplotlib.figure.Figure at 0x7f673be5b110>"
      ]
     },
     "metadata": {},
     "output_type": "display_data"
    }
   ],
   "source": [
    "# Find the number of males and females in each class\n",
    "p_classes = sorted(titanic_data['Pclass'].unique())\n",
    "male_passengers = []\n",
    "female_passengers = []\n",
    "for c in p_classes:\n",
    "    male_passengers.append(len(titanic_data[(titanic_data['Sex'] == 'male') &\n",
    "                                        (titanic_data['Pclass'] == c)]))\n",
    "    female_passengers.append(len(titanic_data[(titanic_data['Sex'] == 'female') &\n",
    "                                            (titanic_data['Pclass'] == c)]))\n",
    "male_passengers_prc = []\n",
    "female_passengers_prc = []\n",
    "# Calculate the percentages of male and female passengers\n",
    "for i in xrange(0,len(male_passengers)):\n",
    "    total_pass_in_class = male_passengers[i] + female_passengers[i]\n",
    "    male_passengers_prc.append(float(male_passengers[i]) /\n",
    "                            total_pass_in_class * 100)\n",
    "    female_passengers_prc.append(float(female_passengers[i]) /\n",
    "                            total_pass_in_class * 100)\n",
    "# Print the percentages of male and female passengers\n",
    "for i in xrange(0, len(male_passengers)):\n",
    "    print '{} % male   passengers in class {}'.\\\n",
    "        format(male_passengers_prc[i], p_classes[i])\n",
    "    print '{} % female passengers in class {}'.\\\n",
    "        format(female_passengers_prc[i], p_classes[i])\n",
    "# Caculate survival rate by gender and class\n",
    "# Collect males data\n",
    "male_data = titanic_data[titanic_data['Sex'] == 'male']\n",
    "male_survival = pd.crosstab(male_data['Pclass'], titanic_data['Survived'])\n",
    "# Collect females data\n",
    "female_data = titanic_data[titanic_data['Sex'] == 'female']\n",
    "female_survival = pd.crosstab(female_data['Pclass'], titanic_data['Survived'])\n",
    "\n",
    "# Compute the percentage\n",
    "male_survival_prc = male_survival.div(male_survival.sum(axis = 1)/100 + \n",
    "                                      female_survival.sum(axis = 1)/100, axis = 0).values\n",
    "# Compute the percentage\n",
    "female_survival_prc = female_survival.div(female_survival.sum(axis = 1)/100 + \n",
    "                                          male_survival.sum(axis = 1)/100, axis = 0).values\n",
    "\n",
    "# plot the population\n",
    "N = 3\n",
    "ind = np.arange(N)\n",
    "width = 0.4\n",
    "fig, ax = plt.subplots()\n",
    "p1 = ax.bar(ind, male_passengers_prc, width, color = 'orange')\n",
    "p2 = ax.bar(ind, female_passengers_prc, width, bottom=male_passengers_prc)\n",
    "p3 = ax.bar(ind + width, male_survival_prc[:,1], width, color = 'coral')\n",
    "p4 = ax.bar(ind + width, female_survival_prc[:,1], width, color = 'palegreen', bottom=male_survival_prc[:,1])\n",
    "\n",
    "ax.set_ylabel('%')\n",
    "ax.set_xlabel('class')\n",
    "ax.set_xticks(ind + width)\n",
    "ax.set_xticklabels(('1','2','3'))\n",
    "ax.legend((p1[0], p2[0], p3[0], p4[0]), ('Male %', 'Female %', 'Male survived %', 'Female survived %'))\n",
    "\n",
    "# Show the figure\n",
    "plt.show()"
   ]
  },
  {
   "cell_type": "markdown",
   "metadata": {},
   "source": [
    "These results show that higher survival rate of females is true for all classes, and the higher survival rate in class 1 is not because of higher female polulation in that class."
   ]
  },
  {
   "cell_type": "markdown",
   "metadata": {
    "collapsed": true
   },
   "source": [
    "Let's Plot the corresponding histograms of survival rate for different ages"
   ]
  },
  {
   "cell_type": "code",
   "execution_count": 122,
   "metadata": {
    "collapsed": false
   },
   "outputs": [
    {
     "data": {
      "image/png": "[encoded data removed]",
      "text/plain": [
       "<matplotlib.figure.Figure at 0x7f673b379990>"
      ]
     },
     "metadata": {},
     "output_type": "display_data"
    },
    {
     "name": "stdout",
     "output_type": "stream",
     "text": [
      "survived_age statistics\n",
      "count    342.000000\n",
      "mean      28.183709\n",
      "std       14.007879\n",
      "min        0.420000\n",
      "25%       21.000000\n",
      "50%       27.000000\n",
      "75%       36.000000\n",
      "max       80.000000\n",
      "Name: filled_age, dtype: float64\n",
      "died_age statistics\n",
      "count    549.000000\n",
      "mean      30.025651\n",
      "std       12.769635\n",
      "min        1.000000\n",
      "25%       22.000000\n",
      "50%       26.507589\n",
      "75%       37.000000\n",
      "max       74.000000\n",
      "Name: filled_age, dtype: float64\n"
     ]
    }
   ],
   "source": [
    "survived_age =  titanic_data[titanic_data['Survived'] == 1]['filled_age']\n",
    "died_age =  titanic_data[titanic_data['Survived'] == 0]['filled_age']\n",
    "plt.hist([survived_age, died_age], stacked=True)\n",
    "plt.legend(('Survived', 'Died'))\n",
    "plt.show()\n",
    "print \"survived_age statistics\"\n",
    "print survived_age.describe()\n",
    "\n",
    "print \"died_age statistics\"\n",
    "print died_age.describe()"
   ]
  },
  {
   "cell_type": "markdown",
   "metadata": {},
   "source": [
    "It seems the survival rate for people in their 30's is higher"
   ]
  },
  {
   "cell_type": "markdown",
   "metadata": {},
   "source": [
    "Let's plot the age histograms of each class to see if the higher survival rate in class 1 is related to age of passengers in that class"
   ]
  },
  {
   "cell_type": "code",
   "execution_count": 123,
   "metadata": {
    "collapsed": false
   },
   "outputs": [
    {
     "name": "stdout",
     "output_type": "stream",
     "text": [
      "Statistics of class 1 age\n",
      "count    186.000000\n",
      "mean      38.233441\n",
      "std       14.802856\n",
      "min        0.920000\n",
      "25%       27.000000\n",
      "50%       37.000000\n",
      "75%       49.000000\n",
      "max       80.000000\n",
      "Name: Age, dtype: float64\n",
      "Statistics of class 2 age\n",
      "count    173.000000\n",
      "mean      29.877630\n",
      "std       14.001077\n",
      "min        0.670000\n",
      "25%       23.000000\n",
      "50%       29.000000\n",
      "75%       36.000000\n",
      "max       70.000000\n",
      "Name: Age, dtype: float64\n",
      "Statistics of class 3 age\n",
      "count    355.000000\n",
      "mean      25.140620\n",
      "std       12.495398\n",
      "min        0.420000\n",
      "25%       18.000000\n",
      "50%       24.000000\n",
      "75%       32.000000\n",
      "max       74.000000\n",
      "Name: Age, dtype: float64\n"
     ]
    },
    {
     "data": {
      "image/png": "[encoded data removed]",
      "text/plain": [
       "<matplotlib.figure.Figure at 0x7f673b47f090>"
      ]
     },
     "metadata": {},
     "output_type": "display_data"
    }
   ],
   "source": [
    "# Plot age histograms for passengers of each classes\n",
    "#fig1, ((ax1, ax2, ax3)) = plt.subplots(1, 3)\n",
    "fig1, ax = plt.subplots(1, 3)\n",
    "\n",
    "plt.gcf().set_size_inches(12, 3)\n",
    "\n",
    "class_age = []\n",
    "age_hist_c = []\n",
    "j = 0\n",
    "for i in range(1,4):\n",
    "    class_age.append(titanic_data[titanic_data['Pclass'] == int(i)]['Age'])\n",
    "    print \"Statistics of class \" + str(i) + \" age\"\n",
    "    print class_age[j].describe()\n",
    "    age_hist_c.append(class_age[j].hist(ax = ax[j]))\n",
    "    plot_hist(age_hist_c[j], ax[j], 'Class ' + str(i) + ' Age histogram', 'Age', 'counts')\n",
    "    j = j + 1"
   ]
  },
  {
   "cell_type": "markdown",
   "metadata": {},
   "source": [
    "The age peak for class 1 appears betweenn 30-40, that shows possible correlation between survival rate and passenger's age.\n",
    "Overall, passengers in class 3 are younger and they have different distribution. Let's do a Mann-Whitney rank test to check this."
   ]
  },
  {
   "cell_type": "code",
   "execution_count": 124,
   "metadata": {
    "collapsed": false
   },
   "outputs": [
    {
     "name": "stdout",
     "output_type": "stream",
     "text": [
      "Mann-Whitney rank test between class 1 and 2\n",
      "(13332.5, 6.9174325536509946e-09)\n",
      "Mann-Whitney rank test between class 1 and 3\n",
      "(44626.0, 0.00039097258657495192)\n",
      "Mann-Whitney rank test between class 2 and 3\n",
      "(42347.5, 0.10528046313690043)\n"
     ]
    }
   ],
   "source": [
    "from scipy import stats\n",
    "print 'Mann-Whitney rank test between class 1 and 2'\n",
    "print stats.mannwhitneyu(class_age[0], class_age[1])\n",
    "print 'Mann-Whitney rank test between class 1 and 3'\n",
    "print stats.mannwhitneyu(class_age[0], class_age[2])\n",
    "print 'Mann-Whitney rank test between class 2 and 3'\n",
    "print stats.mannwhitneyu(class_age[1], class_age[2])"
   ]
  },
  {
   "cell_type": "markdown",
   "metadata": {},
   "source": [
    "This further shows age distribution of different classes of passengers does differ. "
   ]
  },
  {
   "cell_type": "markdown",
   "metadata": {},
   "source": [
    "Let's try to see if having a family member on board (siblings, spouses, parent, children) make passengers more likely to survive"
   ]
  },
  {
   "cell_type": "code",
   "execution_count": 125,
   "metadata": {
    "collapsed": false
   },
   "outputs": [
    {
     "data": {
      "image/png": "[encoded data removed]",
      "text/plain": [
       "<matplotlib.figure.Figure at 0x7f6728b89a10>"
      ]
     },
     "metadata": {},
     "output_type": "display_data"
    }
   ],
   "source": [
    "# Introduce a new column to store the family size\n",
    "titanic_data['familySize'] = titanic_data['SibSp'] + titanic_data['Parch']\n",
    "fig1, ((ax1, ax2, ax3)) = plt.subplots(1, 3)\n",
    "plt.gcf().set_size_inches(15, 3)\n",
    "fig1.subplots_adjust(wspace = 0.3)\n",
    "# Calculate females survival rate based on family size\n",
    "fem_with_fam = titanic_data[titanic_data['Sex'] == 'female']\n",
    "fem_with_fam_survival = pd.crosstab(fem_with_fam['familySize'], titanic_data['Survived'])\n",
    "# Compute the percentage\n",
    "fem_with_fam_survival_prc = fem_with_fam_survival.div(fem_with_fam_survival.sum(axis = 1)/100, axis = 0)\n",
    "# Change the column name to be less confusing\n",
    "fem_with_fam_survival_prc.columns = ['died', 'survived']\n",
    "# Plot the data\n",
    "plot_bar_multi(fem_with_fam_survival_prc, ax1, 'Female',\n",
    "                   'familySize', '%', 0, 100)\n",
    "\n",
    "# Calculate males survival rate based on family size\n",
    "male_with_fam = titanic_data[titanic_data['Sex'] == 'male']\n",
    "male_with_fam_survival = pd.crosstab(male_with_fam['familySize'], titanic_data['Survived'])\n",
    "# Compute the percentage\n",
    "male_with_fam_survival_prc = male_with_fam_survival.div(male_with_fam_survival.sum(axis = 1)/100, axis = 0)\n",
    "# Change the column name to be less confusing\n",
    "male_with_fam_survival_prc.columns = ['died', 'survived']\n",
    "# Plot the data\n",
    "plot_bar_multi(male_with_fam_survival_prc, ax2, 'Male',\n",
    "                   'familySize', '%', 0, 100)\n",
    "\n",
    "# Calculate overall survival rate based on family size\n",
    "pass_with_fam_survival = pd.crosstab(titanic_data['familySize'], titanic_data['Survived'])\n",
    "# Compute the percentage\n",
    "pass_with_fam_survival_prc = pass_with_fam_survival.div(pass_with_fam_survival.sum(axis = 1)/100, axis = 0)\n",
    "# Change the column name to be less confusing\n",
    "pass_with_fam_survival_prc.columns = ['died', 'survived']\n",
    "# Plot the data\n",
    "plot_bar_multi(pass_with_fam_survival_prc, ax3, 'Female and Male',\n",
    "                   'familySize', '%', 0, 100)\n"
   ]
  },
  {
   "cell_type": "markdown",
   "metadata": {},
   "source": [
    "Apparantly, for families of size 3 or smaller, there is a relationship beween survival rate and family size. The survival rate increases by increasing the family size when we look at only males and all passengers. The trend is not as clear if we only look at female passengers. We probably need to do some statistical tests to show the differences are meaningful but I am going to skip this analysis for now."
   ]
  },
  {
   "cell_type": "markdown",
   "metadata": {},
   "source": [
    "# Conclusions"
   ]
  },
  {
   "cell_type": "markdown",
   "metadata": {},
   "source": [
    "According to the data explorations performed here, the following tentative conclusions can be drawn:\n",
    "1) The survival rate was higher for passengers in class 1\n",
    "2) The survival of passengers of 30-40 years old is higher than others.\n",
    "3) Higher survival rate in class 1 could be related to higher population of 30-40 years old passengers in that class\n",
    "4) The survival rate of female passengers is higher. \n",
    "5) It seems people who had some family members on board had higher chance of survival.\n",
    "\n",
    "We must keep in mind that we only look at the data of 891 out of 2224 passengers (~40%) on board. The interpretation of data and the outcomes may change by looking at the complete set of information. Additionally, some values in the data set particularly \"Age\" column are missing which could influence our analysis. Furthermore, we need to perform more statistical tests to prove the differences between reported values are statistically significant. Lastly, the accuracy of the data is an important factor that we currently are not able to examine."
   ]
  },
  {
   "cell_type": "markdown",
   "metadata": {
    "collapsed": true
   },
   "source": [
    "Kaggle website and its forum as well as the first reviewr's comments were used for brainstorming and possible approaches to explore the data."
   ]
  }
 ],
 "metadata": {
  "kernelspec": {
   "display_name": "Python 2",
   "language": "python",
   "name": "python2"
  },
  "language_info": {
   "codemirror_mode": {
    "name": "ipython",
    "version": 2
   },
   "file_extension": ".py",
   "mimetype": "text/x-python",
   "name": "python",
   "nbconvert_exporter": "python",
   "pygments_lexer": "ipython2",
   "version": "2.7.10"
  }
 },
 "nbformat": 4,
 "nbformat_minor": 0
}
